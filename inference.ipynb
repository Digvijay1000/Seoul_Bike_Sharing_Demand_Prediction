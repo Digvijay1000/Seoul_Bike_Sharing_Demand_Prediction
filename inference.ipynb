{
 "cells": [
  {
   "cell_type": "code",
   "execution_count": 1,
   "id": "f2f458ab-c730-4687-b931-b15bb67986f2",
   "metadata": {},
   "outputs": [],
   "source": [
    "import pickle\n",
    "import os\n",
    "from datetime import datetime \n",
    "import pandas as pd\n",
    "import numpy as np"
   ]
  },
  {
   "cell_type": "code",
   "execution_count": 2,
   "id": "a0307684-e588-4800-8a93-8c11902f1d94",
   "metadata": {},
   "outputs": [],
   "source": [
    "# load the model"
   ]
  },
  {
   "cell_type": "code",
   "execution_count": 3,
   "id": "629fa847-04f4-4ad8-a578-301153743df2",
   "metadata": {},
   "outputs": [],
   "source": [
    "model_path = r\"C:\\Users\\Digvijay Mohite\\PYTHON & DATA SCIENCE\\Present\\Seoul_Bike_Sharing_Demand_Prediction\\Models\\xgboost_regressor_r2_0_936_v1.pkl\"\n",
    "model = pickle.load(open(model_path, \"rb\"))"
   ]
  },
  {
   "cell_type": "code",
   "execution_count": 4,
   "id": "bdf58bb3-8c9a-4308-80a2-faa6c703e615",
   "metadata": {},
   "outputs": [],
   "source": [
    "data = [\n",
    "    [-0.65432992,  1.24504573,  0.23697162, -0.5001855 ,  0.56154562,\n",
    "       -0.28664608, -0.12916836, -0.17535463, -0.22754885,  0.18254726,\n",
    "        0.94701966,  0.14260346,  0.30459857, -0.57427456,  1.71961809,\n",
    "       -0.57866842, -0.40630934, -0.40916536, -0.4075004 , -0.40511677,\n",
    "        2.49494334, -0.41367015],  \n",
    "    \n",
    "    [0.50060987,  0.98718632, -0.69180254,  2.40011233,  0.92262892,\n",
    "        1.56419996, -0.12916836, -0.17535463, -0.22754885,  0.18254726,\n",
    "       -0.98911087,  0.72160984,  0.30459857, -0.57427456, -0.58152447,\n",
    "       -0.57866842, -0.40630934, -0.40916536, -0.4075004 , -0.40511677,\n",
    "       -0.40081071, -0.41367015]\n",
    "]"
   ]
  },
  {
   "cell_type": "code",
   "execution_count": 5,
   "id": "6a45ac32-d12f-45e8-bc7b-c2099b691e9d",
   "metadata": {},
   "outputs": [
    {
     "data": {
      "text/plain": [
       "[1230.4951, 1579.3689]"
      ]
     },
     "execution_count": 5,
     "metadata": {},
     "output_type": "execute_result"
    }
   ],
   "source": [
    "prediction = model.predict(data)\n",
    "list(prediction)"
   ]
  },
  {
   "cell_type": "code",
   "execution_count": 6,
   "id": "c29895c3-1a5d-4bdd-ad44-1b9f1ee2823f",
   "metadata": {},
   "outputs": [],
   "source": [
    "# 1213,  1391"
   ]
  },
  {
   "cell_type": "markdown",
   "id": "3b9ec672-1d69-43c8-984d-80d331b075b5",
   "metadata": {},
   "source": [
    "### Load standard scalar"
   ]
  },
  {
   "cell_type": "code",
   "execution_count": 7,
   "id": "31b018af-e396-4896-a7ac-6b01db1a702b",
   "metadata": {},
   "outputs": [],
   "source": [
    "sc_dump_path = r\"C:\\Users\\Digvijay Mohite\\PYTHON & DATA SCIENCE\\Present\\Seoul_Bike_Sharing_Demand_Prediction\\Models\\sc.pkl\"\n",
    "\n",
    "sc = pickle.load(open(sc_dump_path, \"rb\"))"
   ]
  },
  {
   "cell_type": "code",
   "execution_count": 8,
   "id": "d73d04dd-2f18-4175-88b7-0633b102b8d1",
   "metadata": {
    "scrolled": true
   },
   "outputs": [
    {
     "data": {
      "text/html": [
       "<style>#sk-container-id-1 {color: black;}#sk-container-id-1 pre{padding: 0;}#sk-container-id-1 div.sk-toggleable {background-color: white;}#sk-container-id-1 label.sk-toggleable__label {cursor: pointer;display: block;width: 100%;margin-bottom: 0;padding: 0.3em;box-sizing: border-box;text-align: center;}#sk-container-id-1 label.sk-toggleable__label-arrow:before {content: \"▸\";float: left;margin-right: 0.25em;color: #696969;}#sk-container-id-1 label.sk-toggleable__label-arrow:hover:before {color: black;}#sk-container-id-1 div.sk-estimator:hover label.sk-toggleable__label-arrow:before {color: black;}#sk-container-id-1 div.sk-toggleable__content {max-height: 0;max-width: 0;overflow: hidden;text-align: left;background-color: #f0f8ff;}#sk-container-id-1 div.sk-toggleable__content pre {margin: 0.2em;color: black;border-radius: 0.25em;background-color: #f0f8ff;}#sk-container-id-1 input.sk-toggleable__control:checked~div.sk-toggleable__content {max-height: 200px;max-width: 100%;overflow: auto;}#sk-container-id-1 input.sk-toggleable__control:checked~label.sk-toggleable__label-arrow:before {content: \"▾\";}#sk-container-id-1 div.sk-estimator input.sk-toggleable__control:checked~label.sk-toggleable__label {background-color: #d4ebff;}#sk-container-id-1 div.sk-label input.sk-toggleable__control:checked~label.sk-toggleable__label {background-color: #d4ebff;}#sk-container-id-1 input.sk-hidden--visually {border: 0;clip: rect(1px 1px 1px 1px);clip: rect(1px, 1px, 1px, 1px);height: 1px;margin: -1px;overflow: hidden;padding: 0;position: absolute;width: 1px;}#sk-container-id-1 div.sk-estimator {font-family: monospace;background-color: #f0f8ff;border: 1px dotted black;border-radius: 0.25em;box-sizing: border-box;margin-bottom: 0.5em;}#sk-container-id-1 div.sk-estimator:hover {background-color: #d4ebff;}#sk-container-id-1 div.sk-parallel-item::after {content: \"\";width: 100%;border-bottom: 1px solid gray;flex-grow: 1;}#sk-container-id-1 div.sk-label:hover label.sk-toggleable__label {background-color: #d4ebff;}#sk-container-id-1 div.sk-serial::before {content: \"\";position: absolute;border-left: 1px solid gray;box-sizing: border-box;top: 0;bottom: 0;left: 50%;z-index: 0;}#sk-container-id-1 div.sk-serial {display: flex;flex-direction: column;align-items: center;background-color: white;padding-right: 0.2em;padding-left: 0.2em;position: relative;}#sk-container-id-1 div.sk-item {position: relative;z-index: 1;}#sk-container-id-1 div.sk-parallel {display: flex;align-items: stretch;justify-content: center;background-color: white;position: relative;}#sk-container-id-1 div.sk-item::before, #sk-container-id-1 div.sk-parallel-item::before {content: \"\";position: absolute;border-left: 1px solid gray;box-sizing: border-box;top: 0;bottom: 0;left: 50%;z-index: -1;}#sk-container-id-1 div.sk-parallel-item {display: flex;flex-direction: column;z-index: 1;position: relative;background-color: white;}#sk-container-id-1 div.sk-parallel-item:first-child::after {align-self: flex-end;width: 50%;}#sk-container-id-1 div.sk-parallel-item:last-child::after {align-self: flex-start;width: 50%;}#sk-container-id-1 div.sk-parallel-item:only-child::after {width: 0;}#sk-container-id-1 div.sk-dashed-wrapped {border: 1px dashed gray;margin: 0 0.4em 0.5em 0.4em;box-sizing: border-box;padding-bottom: 0.4em;background-color: white;}#sk-container-id-1 div.sk-label label {font-family: monospace;font-weight: bold;display: inline-block;line-height: 1.2em;}#sk-container-id-1 div.sk-label-container {text-align: center;}#sk-container-id-1 div.sk-container {/* jupyter's `normalize.less` sets `[hidden] { display: none; }` but bootstrap.min.css set `[hidden] { display: none !important; }` so we also need the `!important` here to be able to override the default hidden behavior on the sphinx rendered scikit-learn.org. See: https://github.com/scikit-learn/scikit-learn/issues/21755 */display: inline-block !important;position: relative;}#sk-container-id-1 div.sk-text-repr-fallback {display: none;}</style><div id=\"sk-container-id-1\" class=\"sk-top-container\"><div class=\"sk-text-repr-fallback\"><pre>StandardScaler()</pre><b>In a Jupyter environment, please rerun this cell to show the HTML representation or trust the notebook. <br />On GitHub, the HTML representation is unable to render, please try loading this page with nbviewer.org.</b></div><div class=\"sk-container\" hidden><div class=\"sk-item\"><div class=\"sk-estimator sk-toggleable\"><input class=\"sk-toggleable__control sk-hidden--visually\" id=\"sk-estimator-id-1\" type=\"checkbox\" checked><label for=\"sk-estimator-id-1\" class=\"sk-toggleable__label sk-toggleable__label-arrow\">StandardScaler</label><div class=\"sk-toggleable__content\"><pre>StandardScaler()</pre></div></div></div></div></div>"
      ],
      "text/plain": [
       "StandardScaler()"
      ]
     },
     "execution_count": 8,
     "metadata": {},
     "output_type": "execute_result"
    }
   ],
   "source": [
    "sc"
   ]
  },
  {
   "cell_type": "markdown",
   "id": "c855f39a-f766-407d-ac93-ca78ab47c5a5",
   "metadata": {},
   "source": [
    "### User Input"
   ]
  },
  {
   "cell_type": "code",
   "execution_count": 9,
   "id": "8f5b8ad1-74d3-4485-be98-98ae2806045c",
   "metadata": {},
   "outputs": [],
   "source": [
    "Date = \"10/06/2023\"\n",
    "Hour = 21\n",
    "Temperature = 25\n",
    "Humidity = 55\n",
    "Wind_speed = 67\n",
    "Visibility = 25\n",
    "Solar_Radiation = 0.0\n",
    "Rainfall = 0.7\n",
    "Snowfall = 0.2\n",
    "Seasons = \"Winter\"\n",
    "Holiday = \"No Holiday\"\n",
    "Functioning_Day = \"Yes\""
   ]
  },
  {
   "cell_type": "markdown",
   "id": "d5aefa23-1a6e-4190-8e9a-5af0bf66aa70",
   "metadata": {},
   "source": [
    "#### coverting user data into model consumable format"
   ]
  },
  {
   "cell_type": "code",
   "execution_count": 10,
   "id": "f1946b4d-ecac-4b57-8e81-836b65cc6a80",
   "metadata": {},
   "outputs": [
    {
     "data": {
      "text/plain": [
       "{'day': 10, 'month': 6, 'year': 2023, 'week_day': 'Saturday'}"
      ]
     },
     "execution_count": 10,
     "metadata": {},
     "output_type": "execute_result"
    }
   ],
   "source": [
    "holiday_dic = {\"No Holiday\":0,  \"Holiday\":1}\n",
    "functioning_day = {\"No\":0, \"Yes\":1}\n",
    "\n",
    "def get_string_to_datetime(date):\n",
    "    dt = datetime.strptime(Date, \"%d/%m/%Y\")\n",
    "    return {\"day\":dt.day, \"month\":dt.month, \"year\":dt.year, \"week_day\":dt.strftime(\"%A\")}\n",
    "\n",
    "str_to_date = get_string_to_datetime(Date)\n",
    "str_to_date"
   ]
  },
  {
   "cell_type": "code",
   "execution_count": 11,
   "id": "9733e2b2-b7b2-465c-b50e-c91053d0f57c",
   "metadata": {},
   "outputs": [
    {
     "data": {
      "text/html": [
       "<div>\n",
       "<style scoped>\n",
       "    .dataframe tbody tr th:only-of-type {\n",
       "        vertical-align: middle;\n",
       "    }\n",
       "\n",
       "    .dataframe tbody tr th {\n",
       "        vertical-align: top;\n",
       "    }\n",
       "\n",
       "    .dataframe thead th {\n",
       "        text-align: right;\n",
       "    }\n",
       "</style>\n",
       "<table border=\"1\" class=\"dataframe\">\n",
       "  <thead>\n",
       "    <tr style=\"text-align: right;\">\n",
       "      <th></th>\n",
       "      <th>Hour</th>\n",
       "      <th>Temperature(°C)</th>\n",
       "      <th>Humidity(%)</th>\n",
       "      <th>Wind speed (m/s)</th>\n",
       "      <th>Visibility (10m)</th>\n",
       "      <th>Solar Radiation (MJ/m2)</th>\n",
       "      <th>Rainfall(mm)</th>\n",
       "      <th>Snowfall (cm)</th>\n",
       "      <th>Holiday</th>\n",
       "      <th>Functioning Day</th>\n",
       "      <th>Day</th>\n",
       "      <th>Month</th>\n",
       "      <th>Year</th>\n",
       "    </tr>\n",
       "  </thead>\n",
       "  <tbody>\n",
       "    <tr>\n",
       "      <th>0</th>\n",
       "      <td>21</td>\n",
       "      <td>25</td>\n",
       "      <td>55</td>\n",
       "      <td>67</td>\n",
       "      <td>25</td>\n",
       "      <td>0.0</td>\n",
       "      <td>0.7</td>\n",
       "      <td>0.2</td>\n",
       "      <td>0</td>\n",
       "      <td>1</td>\n",
       "      <td>10</td>\n",
       "      <td>6</td>\n",
       "      <td>2023</td>\n",
       "    </tr>\n",
       "  </tbody>\n",
       "</table>\n",
       "</div>"
      ],
      "text/plain": [
       "   Hour  Temperature(°C)  Humidity(%)  Wind speed (m/s)  Visibility (10m)  \\\n",
       "0    21               25           55                67                25   \n",
       "\n",
       "   Solar Radiation (MJ/m2)  Rainfall(mm)  Snowfall (cm)  Holiday  \\\n",
       "0                      0.0           0.7            0.2        0   \n",
       "\n",
       "   Functioning Day  Day  Month  Year  \n",
       "0                1   10      6  2023  "
      ]
     },
     "execution_count": 11,
     "metadata": {},
     "output_type": "execute_result"
    }
   ],
   "source": [
    "user_input_list = [Hour, Temperature , Humidity , Wind_speed ,Visibility,\n",
    "                   Solar_Radiation , Rainfall , Snowfall , holiday_dic[Holiday] ,functioning_day[Functioning_Day],\n",
    "                   str_to_date['day'], str_to_date['month'], str_to_date['year']]\n",
    "\n",
    "features_name = ['Hour', 'Temperature(°C)', 'Humidity(%)',\n",
    "       'Wind speed (m/s)', 'Visibility (10m)','Solar Radiation (MJ/m2)', 'Rainfall(mm)', 'Snowfall (cm)',\n",
    "       'Holiday', 'Functioning Day', 'Day', 'Month', 'Year']\n",
    "\n",
    "df_user_input = pd.DataFrame([user_input_list], columns=features_name)\n",
    "df_user_input"
   ]
  },
  {
   "cell_type": "code",
   "execution_count": 12,
   "id": "d86763f6-4813-47f9-a033-dcc643d003ad",
   "metadata": {},
   "outputs": [
    {
     "data": {
      "text/plain": [
       "[21, 25, 55, 67, 25, 0.0, 0.7, 0.2, 0, 1, 10, 6, 2023]"
      ]
     },
     "execution_count": 12,
     "metadata": {},
     "output_type": "execute_result"
    }
   ],
   "source": [
    "user_input_list"
   ]
  },
  {
   "cell_type": "code",
   "execution_count": 13,
   "id": "51fd96c2-6d88-40f8-936d-7590de5bf3f3",
   "metadata": {},
   "outputs": [
    {
     "data": {
      "text/html": [
       "<div>\n",
       "<style scoped>\n",
       "    .dataframe tbody tr th:only-of-type {\n",
       "        vertical-align: middle;\n",
       "    }\n",
       "\n",
       "    .dataframe tbody tr th {\n",
       "        vertical-align: top;\n",
       "    }\n",
       "\n",
       "    .dataframe thead th {\n",
       "        text-align: right;\n",
       "    }\n",
       "</style>\n",
       "<table border=\"1\" class=\"dataframe\">\n",
       "  <thead>\n",
       "    <tr style=\"text-align: right;\">\n",
       "      <th></th>\n",
       "      <th>Spring</th>\n",
       "      <th>Summer</th>\n",
       "      <th>Winter</th>\n",
       "    </tr>\n",
       "  </thead>\n",
       "  <tbody>\n",
       "    <tr>\n",
       "      <th>0</th>\n",
       "      <td>0</td>\n",
       "      <td>0</td>\n",
       "      <td>1</td>\n",
       "    </tr>\n",
       "  </tbody>\n",
       "</table>\n",
       "</div>"
      ],
      "text/plain": [
       "   Spring  Summer  Winter\n",
       "0       0       0       1"
      ]
     },
     "execution_count": 13,
     "metadata": {},
     "output_type": "execute_result"
    }
   ],
   "source": [
    "def seasons_to_df(Seasons):\n",
    "    seasons_cols = ['Spring', 'Summer','Winter']\n",
    "    seasons_data = np.zeros((1, len(seasons_cols)), dtype=int)\n",
    "\n",
    "    df_seasons = pd.DataFrame(seasons_data, columns= seasons_cols)\n",
    "    if Seasons in seasons_cols:\n",
    "        df_seasons[Seasons] = 1\n",
    "    return df_seasons\n",
    "    \n",
    "df_season = seasons_to_df(Seasons)\n",
    "df_season"
   ]
  },
  {
   "cell_type": "code",
   "execution_count": 14,
   "id": "459925fa-f426-4fab-9fda-ace37202a9b9",
   "metadata": {
    "scrolled": true
   },
   "outputs": [
    {
     "data": {
      "text/html": [
       "<div>\n",
       "<style scoped>\n",
       "    .dataframe tbody tr th:only-of-type {\n",
       "        vertical-align: middle;\n",
       "    }\n",
       "\n",
       "    .dataframe tbody tr th {\n",
       "        vertical-align: top;\n",
       "    }\n",
       "\n",
       "    .dataframe thead th {\n",
       "        text-align: right;\n",
       "    }\n",
       "</style>\n",
       "<table border=\"1\" class=\"dataframe\">\n",
       "  <thead>\n",
       "    <tr style=\"text-align: right;\">\n",
       "      <th></th>\n",
       "      <th>Monday</th>\n",
       "      <th>Saturday</th>\n",
       "      <th>Sunday</th>\n",
       "      <th>Thursday</th>\n",
       "      <th>Tuesday</th>\n",
       "      <th>Wednesday</th>\n",
       "    </tr>\n",
       "  </thead>\n",
       "  <tbody>\n",
       "    <tr>\n",
       "      <th>0</th>\n",
       "      <td>0</td>\n",
       "      <td>1</td>\n",
       "      <td>0</td>\n",
       "      <td>0</td>\n",
       "      <td>0</td>\n",
       "      <td>0</td>\n",
       "    </tr>\n",
       "  </tbody>\n",
       "</table>\n",
       "</div>"
      ],
      "text/plain": [
       "   Monday  Saturday  Sunday  Thursday  Tuesday  Wednesday\n",
       "0       0         1       0         0        0          0"
      ]
     },
     "execution_count": 14,
     "metadata": {},
     "output_type": "execute_result"
    }
   ],
   "source": [
    "def days_df(week_day):\n",
    "    days_names = ['Monday', 'Saturday', 'Sunday', 'Thursday', 'Tuesday', 'Wednesday']\n",
    "    days_name_data = np.zeros((1, len(days_names)),dtype = 'int')\n",
    "    df_days = pd.DataFrame(days_name_data, columns=days_names)\n",
    "\n",
    "    if week_day in days_names:\n",
    "        df_days[week_day]=1\n",
    "    return df_days\n",
    "\n",
    "df_days = days_df(str_to_date['week_day'])\n",
    "df_days"
   ]
  },
  {
   "cell_type": "code",
   "execution_count": 15,
   "id": "bc6a477f-de92-4e5d-8508-bce82f44d54d",
   "metadata": {},
   "outputs": [
    {
     "data": {
      "text/plain": [
       "'Saturday'"
      ]
     },
     "execution_count": 15,
     "metadata": {},
     "output_type": "execute_result"
    }
   ],
   "source": [
    "str_to_date['week_day']"
   ]
  },
  {
   "cell_type": "code",
   "execution_count": 16,
   "id": "0ecb774b-11bd-4f90-bf49-cb00ffee058f",
   "metadata": {},
   "outputs": [
    {
     "data": {
      "text/html": [
       "<div>\n",
       "<style scoped>\n",
       "    .dataframe tbody tr th:only-of-type {\n",
       "        vertical-align: middle;\n",
       "    }\n",
       "\n",
       "    .dataframe tbody tr th {\n",
       "        vertical-align: top;\n",
       "    }\n",
       "\n",
       "    .dataframe thead th {\n",
       "        text-align: right;\n",
       "    }\n",
       "</style>\n",
       "<table border=\"1\" class=\"dataframe\">\n",
       "  <thead>\n",
       "    <tr style=\"text-align: right;\">\n",
       "      <th></th>\n",
       "      <th>Monday</th>\n",
       "      <th>Saturday</th>\n",
       "      <th>Sunday</th>\n",
       "      <th>Thursday</th>\n",
       "      <th>Tuesday</th>\n",
       "      <th>Wednesday</th>\n",
       "    </tr>\n",
       "  </thead>\n",
       "  <tbody>\n",
       "    <tr>\n",
       "      <th>0</th>\n",
       "      <td>0</td>\n",
       "      <td>0</td>\n",
       "      <td>0</td>\n",
       "      <td>0</td>\n",
       "      <td>0</td>\n",
       "      <td>0</td>\n",
       "    </tr>\n",
       "  </tbody>\n",
       "</table>\n",
       "</div>"
      ],
      "text/plain": [
       "   Monday  Saturday  Sunday  Thursday  Tuesday  Wednesday\n",
       "0       0         0       0         0        0          0"
      ]
     },
     "execution_count": 16,
     "metadata": {},
     "output_type": "execute_result"
    }
   ],
   "source": [
    "days_df('Friday')"
   ]
  },
  {
   "cell_type": "code",
   "execution_count": 17,
   "id": "20eadb28-621c-4a24-b9a1-0ad1c73684f0",
   "metadata": {},
   "outputs": [
    {
     "data": {
      "text/html": [
       "<div>\n",
       "<style scoped>\n",
       "    .dataframe tbody tr th:only-of-type {\n",
       "        vertical-align: middle;\n",
       "    }\n",
       "\n",
       "    .dataframe tbody tr th {\n",
       "        vertical-align: top;\n",
       "    }\n",
       "\n",
       "    .dataframe thead th {\n",
       "        text-align: right;\n",
       "    }\n",
       "</style>\n",
       "<table border=\"1\" class=\"dataframe\">\n",
       "  <thead>\n",
       "    <tr style=\"text-align: right;\">\n",
       "      <th></th>\n",
       "      <th>Hour</th>\n",
       "      <th>Temperature(°C)</th>\n",
       "      <th>Humidity(%)</th>\n",
       "      <th>Wind speed (m/s)</th>\n",
       "      <th>Visibility (10m)</th>\n",
       "      <th>Solar Radiation (MJ/m2)</th>\n",
       "      <th>Rainfall(mm)</th>\n",
       "      <th>Snowfall (cm)</th>\n",
       "      <th>Holiday</th>\n",
       "      <th>Functioning Day</th>\n",
       "      <th>...</th>\n",
       "      <th>Year</th>\n",
       "      <th>Spring</th>\n",
       "      <th>Summer</th>\n",
       "      <th>Winter</th>\n",
       "      <th>Monday</th>\n",
       "      <th>Saturday</th>\n",
       "      <th>Sunday</th>\n",
       "      <th>Thursday</th>\n",
       "      <th>Tuesday</th>\n",
       "      <th>Wednesday</th>\n",
       "    </tr>\n",
       "  </thead>\n",
       "  <tbody>\n",
       "    <tr>\n",
       "      <th>0</th>\n",
       "      <td>21</td>\n",
       "      <td>25</td>\n",
       "      <td>55</td>\n",
       "      <td>67</td>\n",
       "      <td>25</td>\n",
       "      <td>0.0</td>\n",
       "      <td>0.7</td>\n",
       "      <td>0.2</td>\n",
       "      <td>0</td>\n",
       "      <td>1</td>\n",
       "      <td>...</td>\n",
       "      <td>2023</td>\n",
       "      <td>0</td>\n",
       "      <td>0</td>\n",
       "      <td>1</td>\n",
       "      <td>0</td>\n",
       "      <td>1</td>\n",
       "      <td>0</td>\n",
       "      <td>0</td>\n",
       "      <td>0</td>\n",
       "      <td>0</td>\n",
       "    </tr>\n",
       "  </tbody>\n",
       "</table>\n",
       "<p>1 rows × 22 columns</p>\n",
       "</div>"
      ],
      "text/plain": [
       "   Hour  Temperature(°C)  Humidity(%)  Wind speed (m/s)  Visibility (10m)  \\\n",
       "0    21               25           55                67                25   \n",
       "\n",
       "   Solar Radiation (MJ/m2)  Rainfall(mm)  Snowfall (cm)  Holiday  \\\n",
       "0                      0.0           0.7            0.2        0   \n",
       "\n",
       "   Functioning Day  ...  Year  Spring  Summer  Winter  Monday  Saturday  \\\n",
       "0                1  ...  2023       0       0       1       0         1   \n",
       "\n",
       "   Sunday  Thursday  Tuesday  Wednesday  \n",
       "0       0         0        0          0  \n",
       "\n",
       "[1 rows x 22 columns]"
      ]
     },
     "execution_count": 17,
     "metadata": {},
     "output_type": "execute_result"
    }
   ],
   "source": [
    "df_for_pred = pd.concat([df_user_input, df_season, df_days], axis=1)\n",
    "df_for_pred"
   ]
  },
  {
   "cell_type": "code",
   "execution_count": 19,
   "id": "489e3d84-49c3-4df0-b53e-9435f5b7b989",
   "metadata": {},
   "outputs": [
    {
     "data": {
      "text/plain": [
       "array([[ 1.36681471,  1.01214045, -0.15409119, 63.11301355, -2.33371591,\n",
       "        -0.65681529,  0.46358031,  0.29083855, -0.22754885,  0.18254726,\n",
       "        -0.64744078, -0.14689974, 18.24263884, -0.57427456, -0.58152447,\n",
       "         1.72810536, -0.40630934,  2.44399966, -0.4075004 , -0.40511677,\n",
       "        -0.40081071, -0.41367015]])"
      ]
     },
     "execution_count": 19,
     "metadata": {},
     "output_type": "execute_result"
    }
   ],
   "source": [
    "sc_data_for_pred = sc.transform(df_for_pred)\n",
    "sc_data_for_pred"
   ]
  },
  {
   "cell_type": "markdown",
   "id": "5c349438-89c0-4243-90dc-fe8398106bf8",
   "metadata": {},
   "source": [
    "### Prediction In Deployment"
   ]
  },
  {
   "cell_type": "code",
   "execution_count": 23,
   "id": "d7c5ff07-a3dd-483e-8cf5-763e46cc3e28",
   "metadata": {},
   "outputs": [
    {
     "data": {
      "text/plain": [
       "array([696.53235], dtype=float32)"
      ]
     },
     "execution_count": 23,
     "metadata": {},
     "output_type": "execute_result"
    }
   ],
   "source": [
    "model.predict(sc_data_for_pred)"
   ]
  },
  {
   "cell_type": "code",
   "execution_count": 26,
   "id": "1d8ccb3e-c52d-411a-88d3-429636df8913",
   "metadata": {},
   "outputs": [
    {
     "name": "stdout",
     "output_type": "stream",
     "text": [
      "Rented Bike Demand on date :10/06/2023 and Time:21 is :697\n"
     ]
    }
   ],
   "source": [
    "print(f\"Rented Bike Demand on date :{Date} and Time:{Hour} is :{round(model.predict(sc_data_for_pred).tolist()[0])}\")"
   ]
  },
  {
   "cell_type": "code",
   "execution_count": null,
   "id": "1b309ba7-7ed2-4186-b051-c945cf98964b",
   "metadata": {},
   "outputs": [],
   "source": []
  }
 ],
 "metadata": {
  "kernelspec": {
   "display_name": "Python 3 (ipykernel)",
   "language": "python",
   "name": "python3"
  },
  "language_info": {
   "codemirror_mode": {
    "name": "ipython",
    "version": 3
   },
   "file_extension": ".py",
   "mimetype": "text/x-python",
   "name": "python",
   "nbconvert_exporter": "python",
   "pygments_lexer": "ipython3",
   "version": "3.11.5"
  }
 },
 "nbformat": 4,
 "nbformat_minor": 5
}
